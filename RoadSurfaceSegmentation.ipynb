{
  "cells": [
    {
      "cell_type": "markdown",
      "metadata": {
        "colab_type": "text",
        "id": "GGg9kEr0mzrf"
      },
      "source": [
        "# Road surface detection and differentiation considering surface damages"
      ]
    },
    {
      "cell_type": "markdown",
      "metadata": {
        "colab_type": "text",
        "id": "mk2r-gCRCVb_"
      },
      "source": [
        "## 1. Initial settings\n",
        "\n",
        "---\n",
        "\n"
      ]
    },
    {
      "cell_type": "code",
      "execution_count": null,
      "metadata": {
        "colab": {},
        "colab_type": "code",
        "id": "woWwcX5eznYL"
      },
      "outputs": [],
      "source": [
        "%reload_ext autoreload\n",
        "%autoreload 2\n",
        "%matplotlib inline\n",
        "!/opt/bin/nvidia-smi\n",
        "!nvcc --version"
      ]
    },
    {
      "cell_type": "code",
      "execution_count": null,
      "metadata": {
        "colab": {},
        "colab_type": "code",
        "id": "rUlUjSarCbeu"
      },
      "outputs": [],
      "source": [
        "from fastai.vision import *\n",
        "from fastai.vision.interpret import *\n",
        "from fastai.callbacks.hooks import *\n",
        "from pathlib import Path\n",
        "from fastai.utils.mem import *\n",
        "torch.backends.cudnn.benchmark=True"
      ]
    },
    {
      "cell_type": "code",
      "execution_count": null,
      "metadata": {
        "colab": {},
        "colab_type": "code",
        "id": "fbNQPOrsCdRX"
      },
      "outputs": [],
      "source": [
        "import warnings\n",
        "warnings.filterwarnings(\"ignore\", category=UserWarning, module=\"torch.nn.functional\")"
      ]
    },
    {
      "cell_type": "code",
      "execution_count": null,
      "metadata": {
        "colab": {},
        "colab_type": "code",
        "id": "D3GdYMqtCexi"
      },
      "outputs": [],
      "source": [
        "#from google.colab import drive\n",
        "#drive.mount('/content/gdrive')"
      ]
    },
    {
      "cell_type": "markdown",
      "metadata": {
        "colab_type": "text",
        "id": "nBWj9_LSC2G5"
      },
      "source": [
        "## 2. Preparing the data\n",
        "\n",
        "---\n",
        "\n"
      ]
    },
    {
      "cell_type": "code",
      "execution_count": null,
      "metadata": {
        "colab": {},
        "colab_type": "code",
        "id": "6yMPQ7v7CtbG"
      },
      "outputs": [],
      "source": [
        "path = Path('data/')\n",
        "path.ls()"
      ]
    },
    {
      "cell_type": "code",
      "execution_count": null,
      "metadata": {
        "colab": {},
        "colab_type": "code",
        "id": "Z1BpN93iC8J7"
      },
      "outputs": [],
      "source": [
        "codes = np.loadtxt(path/'codes.txt', dtype=str); codes"
      ]
    },
    {
      "cell_type": "code",
      "execution_count": null,
      "metadata": {
        "colab": {},
        "colab_type": "code",
        "id": "kfT8JAUYC-tp"
      },
      "outputs": [],
      "source": [
        "path_lbl = path/'labels'\n",
        "path_img = path/'images'"
      ]
    },
    {
      "cell_type": "code",
      "execution_count": null,
      "metadata": {
        "colab": {},
        "colab_type": "code",
        "id": "N83tmLjBDAII"
      },
      "outputs": [],
      "source": [
        "fnames = get_image_files(path_img)\n",
        "fnames[:3]\n",
        "len(fnames)"
      ]
    },
    {
      "cell_type": "code",
      "execution_count": null,
      "metadata": {
        "colab": {},
        "colab_type": "code",
        "id": "ZvTFNcwxDB6C"
      },
      "outputs": [],
      "source": [
        "lbl_names = get_image_files(path_lbl)\n",
        "lbl_names[:3]\n",
        "len(lbl_names)"
      ]
    },
    {
      "cell_type": "code",
      "execution_count": null,
      "metadata": {
        "colab": {},
        "colab_type": "code",
        "id": "Dzk-MfPYDD7p"
      },
      "outputs": [],
      "source": [
        "img_f = fnames[139]\n",
        "img = open_image(img_f)\n",
        "img.show(figsize=(5,5))"
      ]
    },
    {
      "cell_type": "code",
      "execution_count": null,
      "metadata": {
        "colab": {},
        "colab_type": "code",
        "id": "KxBbLefJDFsd"
      },
      "outputs": [],
      "source": [
        "get_y_fn = lambda x: path_lbl/f'{x.stem}{x.suffix}'"
      ]
    },
    {
      "cell_type": "code",
      "execution_count": null,
      "metadata": {
        "colab": {},
        "colab_type": "code",
        "id": "P73xHjqaDHI7"
      },
      "outputs": [],
      "source": [
        "mask = open_mask(get_y_fn(img_f))\n",
        "mask.show(figsize=(5,5), alpha=1)"
      ]
    },
    {
      "cell_type": "code",
      "execution_count": null,
      "metadata": {
        "colab": {},
        "colab_type": "code",
        "id": "a_2SmfMCDI7n"
      },
      "outputs": [],
      "source": [
        "src_size = np.array(mask.shape[1:])\n",
        "src_size,mask.data"
      ]
    },
    {
      "cell_type": "markdown",
      "metadata": {
        "colab_type": "text",
        "id": "NmrXBAhNf5mC"
      },
      "source": [
        "## 3. First Step - Without weights\n",
        "\n",
        "---\n",
        "\n"
      ]
    },
    {
      "cell_type": "markdown",
      "metadata": {
        "colab_type": "text",
        "id": "UbxyIcZkDqBJ"
      },
      "source": [
        "### 3.1. First step Datasets\n",
        "\n",
        "---\n",
        "\n"
      ]
    },
    {
      "cell_type": "code",
      "execution_count": null,
      "metadata": {
        "colab": {},
        "colab_type": "code",
        "id": "KoQLPTpZDZQZ"
      },
      "outputs": [],
      "source": [
        "size = src_size\n",
        "\n",
        "free = gpu_mem_get_free_no_cache()\n",
        "# the max size of bs depends on the available GPU RAM\n",
        "if free > 8200: bs=8\n",
        "else:           bs=4\n",
        "print(f\"using bs={bs}, have {free}MB of GPU RAM free\")"
      ]
    },
    {
      "cell_type": "code",
      "execution_count": null,
      "metadata": {
        "colab": {},
        "colab_type": "code",
        "id": "ypW12JvVDxMk"
      },
      "outputs": [],
      "source": [
        "src = (SegmentationItemList.from_folder(path_img)\n",
        "       .split_by_fname_file('../valid.txt')\n",
        "       .label_from_func(get_y_fn, classes=codes))"
      ]
    },
    {
      "cell_type": "code",
      "execution_count": null,
      "metadata": {
        "colab": {},
        "colab_type": "code",
        "id": "-qSJBnFCDy7t"
      },
      "outputs": [],
      "source": [
        "data = (src.transform(get_transforms(), size=size, tfm_y=True)\n",
        "        .databunch(bs=bs)\n",
        "        .normalize(imagenet_stats))"
      ]
    },
    {
      "cell_type": "code",
      "execution_count": null,
      "metadata": {
        "colab": {},
        "colab_type": "code",
        "id": "-HeHMvl3D0vH"
      },
      "outputs": [],
      "source": [
        "data.show_batch(2, figsize=(10,10))"
      ]
    },
    {
      "cell_type": "code",
      "execution_count": null,
      "metadata": {
        "colab": {},
        "colab_type": "code",
        "id": "eFnPc-sND2fW"
      },
      "outputs": [],
      "source": [
        "data.show_batch(2, figsize=(10,7), ds_type=DatasetType.Valid)"
      ]
    },
    {
      "cell_type": "markdown",
      "metadata": {
        "colab_type": "text",
        "id": "K7W20An-GnNm"
      },
      "source": [
        "### 3.2. First step Model\n",
        "\n",
        "---\n",
        "\n"
      ]
    },
    {
      "cell_type": "code",
      "execution_count": null,
      "metadata": {
        "colab": {},
        "colab_type": "code",
        "id": "V-paASzNELtK"
      },
      "outputs": [],
      "source": [
        "name2id = {v:k for k,v in enumerate(codes)}\n",
        "\n",
        "def acc_rtk(input, target):\n",
        "    target = target.squeeze(1)\n",
        "    mask = target != 0\n",
        "    return (input.argmax(dim=1)[mask]==target[mask]).float().mean()"
      ]
    },
    {
      "cell_type": "code",
      "execution_count": null,
      "metadata": {
        "colab": {},
        "colab_type": "code",
        "id": "NcAvDEryGuwq"
      },
      "outputs": [],
      "source": [
        "metrics=acc_rtk\n",
        "wd=1e-2"
      ]
    },
    {
      "cell_type": "code",
      "execution_count": null,
      "metadata": {
        "colab": {},
        "colab_type": "code",
        "id": "F9rbvQ8AGw0a"
      },
      "outputs": [],
      "source": [
        "learn = unet_learner(data, models.resnet34, metrics=metrics, wd=wd)"
      ]
    },
    {
      "cell_type": "code",
      "execution_count": null,
      "metadata": {
        "colab": {},
        "colab_type": "code",
        "id": "wpjCmT8mGy1W"
      },
      "outputs": [],
      "source": [
        "#CUDA_LAUNCH_BLOCKING=1\n",
        "lr_find(learn)\n",
        "learn.recorder.plot()"
      ]
    },
    {
      "cell_type": "code",
      "execution_count": null,
      "metadata": {
        "colab": {},
        "colab_type": "code",
        "id": "GS7-jnS0G1DM"
      },
      "outputs": [],
      "source": [
        "lr=1e-4"
      ]
    },
    {
      "cell_type": "code",
      "execution_count": null,
      "metadata": {
        "colab": {},
        "colab_type": "code",
        "id": "u0Y52M-qG3ID"
      },
      "outputs": [],
      "source": [
        "learn.fit_one_cycle(10, slice(lr), pct_start=0.9)"
      ]
    },
    {
      "cell_type": "code",
      "execution_count": null,
      "metadata": {
        "colab": {},
        "colab_type": "code",
        "id": "Ym9mEJVVG4zE"
      },
      "outputs": [],
      "source": [
        "learn.save('stage-1')"
      ]
    },
    {
      "cell_type": "code",
      "execution_count": null,
      "metadata": {
        "colab": {},
        "colab_type": "code",
        "id": "r_WCYmq3G6Uf"
      },
      "outputs": [],
      "source": [
        "learn.load('stage-1');"
      ]
    },
    {
      "cell_type": "code",
      "execution_count": null,
      "metadata": {
        "colab": {},
        "colab_type": "code",
        "id": "Gb-EFFVpG7-q"
      },
      "outputs": [],
      "source": [
        "learn.show_results(rows=5, figsize=(15,15))"
      ]
    },
    {
      "cell_type": "markdown",
      "metadata": {
        "colab_type": "text",
        "id": "VE4zF162G-4z"
      },
      "source": [
        "### 3.3. Interpret\n",
        "\n",
        "---\n",
        "\n"
      ]
    },
    {
      "cell_type": "code",
      "execution_count": null,
      "metadata": {
        "colab": {},
        "colab_type": "code",
        "id": "kJu9vBlfHA5B"
      },
      "outputs": [],
      "source": [
        "interp = SegmentationInterpretation.from_learner(learn)"
      ]
    },
    {
      "cell_type": "code",
      "execution_count": null,
      "metadata": {
        "colab": {},
        "colab_type": "code",
        "id": "rea5Nz9yHCxp"
      },
      "outputs": [],
      "source": [
        "top_losses, top_idxs = interp.top_losses((288,352))"
      ]
    },
    {
      "cell_type": "code",
      "execution_count": null,
      "metadata": {
        "colab": {},
        "colab_type": "code",
        "id": "VSCFhKzzHEfS"
      },
      "outputs": [],
      "source": [
        "# plot loss distribution\n",
        "plt.hist(to_np(top_losses), bins=20)"
      ]
    },
    {
      "cell_type": "code",
      "execution_count": null,
      "metadata": {
        "colab": {},
        "colab_type": "code",
        "id": "_MHIJS_yHGa7"
      },
      "outputs": [],
      "source": [
        "# top loss idxs of images\n",
        "top_idxs[:5]"
      ]
    },
    {
      "cell_type": "markdown",
      "metadata": {
        "colab_type": "text",
        "id": "tRZoEiB8HJhI"
      },
      "source": [
        "### 3.4. Confusion Matrix\n",
        "\n",
        "---\n",
        "\n"
      ]
    },
    {
      "cell_type": "code",
      "execution_count": null,
      "metadata": {
        "colab": {},
        "colab_type": "code",
        "id": "mRo-rEthHJ6A"
      },
      "outputs": [],
      "source": [
        "mean_cm, single_img_cm = interp._generate_confusion()"
      ]
    },
    {
      "cell_type": "code",
      "execution_count": null,
      "metadata": {
        "colab": {},
        "colab_type": "code",
        "id": "mTum9BXpHNBn"
      },
      "outputs": [],
      "source": [
        "mean_cm.shape, single_img_cm.shape"
      ]
    },
    {
      "cell_type": "code",
      "execution_count": null,
      "metadata": {
        "colab": {},
        "colab_type": "code",
        "id": "9uFc-7KcHO2l"
      },
      "outputs": [],
      "source": [
        "# global class performance\n",
        "df = interp._plot_intersect_cm(mean_cm, \"Mean of Ratio of Intersection given True Label\")"
      ]
    },
    {
      "cell_type": "code",
      "execution_count": null,
      "metadata": {
        "colab": {},
        "colab_type": "code",
        "id": "D4bA9Qw4HXEB"
      },
      "outputs": [],
      "source": [
        "# single image class performance\n",
        "i = 10\n",
        "df = interp._plot_intersect_cm(single_img_cm[i], f\"Ratio of Intersection given True Label, Image:{i}\")"
      ]
    },
    {
      "cell_type": "code",
      "execution_count": null,
      "metadata": {
        "colab": {},
        "colab_type": "code",
        "id": "tbFVrVCVHaK6"
      },
      "outputs": [],
      "source": [
        "# show xyz\n",
        "interp.show_xyz(i)"
      ]
    },
    {
      "cell_type": "markdown",
      "metadata": {
        "colab_type": "text",
        "id": "3oW77qUxHhkp"
      },
      "source": [
        "### 3.5. First model continuation\n",
        "\n",
        "---\n",
        "\n"
      ]
    },
    {
      "cell_type": "code",
      "execution_count": null,
      "metadata": {
        "colab": {},
        "colab_type": "code",
        "id": "DHhM3YfjHjmV"
      },
      "outputs": [],
      "source": [
        "learn.unfreeze()"
      ]
    },
    {
      "cell_type": "code",
      "execution_count": null,
      "metadata": {
        "colab": {},
        "colab_type": "code",
        "id": "vpf9gZYgHlnI"
      },
      "outputs": [],
      "source": [
        "lrs = slice(lr/400,lr/4)"
      ]
    },
    {
      "cell_type": "code",
      "execution_count": null,
      "metadata": {
        "colab": {},
        "colab_type": "code",
        "id": "h84SZCadHnaY"
      },
      "outputs": [],
      "source": [
        "learn.fit_one_cycle(100, lrs, pct_start=0.9)"
      ]
    },
    {
      "cell_type": "code",
      "execution_count": null,
      "metadata": {
        "colab": {},
        "colab_type": "code",
        "id": "iJxgf68WHqD8"
      },
      "outputs": [],
      "source": [
        "learn.save('stage-2')"
      ]
    },
    {
      "cell_type": "code",
      "execution_count": null,
      "metadata": {
        "colab": {},
        "colab_type": "code",
        "id": "t_rkQMWVHrmf"
      },
      "outputs": [],
      "source": [
        "learn.load('stage-2');"
      ]
    },
    {
      "cell_type": "code",
      "execution_count": null,
      "metadata": {
        "colab": {},
        "colab_type": "code",
        "id": "rwQbJFU2HtMx"
      },
      "outputs": [],
      "source": [
        "learn.show_results(rows=25, figsize=(20,20))"
      ]
    },
    {
      "cell_type": "markdown",
      "metadata": {
        "colab_type": "text",
        "id": "3ojFnvRBHx8v"
      },
      "source": [
        "### 3.6. Confusion Matrix\n",
        "\n",
        "---\n",
        "\n"
      ]
    },
    {
      "cell_type": "code",
      "execution_count": null,
      "metadata": {
        "colab": {},
        "colab_type": "code",
        "id": "Sdx-NrEBiPjh"
      },
      "outputs": [],
      "source": [
        "interp = SegmentationInterpretation.from_learner(learn)"
      ]
    },
    {
      "cell_type": "code",
      "execution_count": null,
      "metadata": {
        "colab": {},
        "colab_type": "code",
        "id": "khTXOjeCHz4U"
      },
      "outputs": [],
      "source": [
        "mean_cm, single_img_cm = interp._generate_confusion()"
      ]
    },
    {
      "cell_type": "code",
      "execution_count": null,
      "metadata": {
        "colab": {},
        "colab_type": "code",
        "id": "LvilgGWHH2MX"
      },
      "outputs": [],
      "source": [
        "mean_cm.shape, single_img_cm.shape"
      ]
    },
    {
      "cell_type": "code",
      "execution_count": null,
      "metadata": {
        "colab": {},
        "colab_type": "code",
        "id": "0b1RhFsxH4PW"
      },
      "outputs": [],
      "source": [
        "# global class performance\n",
        "df = interp._plot_intersect_cm(mean_cm, \"Mean of Ratio of Intersection given True Label\")"
      ]
    },
    {
      "cell_type": "code",
      "execution_count": null,
      "metadata": {
        "colab": {},
        "colab_type": "code",
        "id": "XuneWk4BH64P"
      },
      "outputs": [],
      "source": [
        "# single image class performance\n",
        "i = 0\n",
        "df = interp._plot_intersect_cm(single_img_cm[i], f\"Ratio of Intersection given True Label, Image:{i}\")"
      ]
    },
    {
      "cell_type": "code",
      "execution_count": null,
      "metadata": {
        "colab": {},
        "colab_type": "code",
        "id": "G9ZMMt2IH85B"
      },
      "outputs": [],
      "source": [
        "# show xyz\n",
        "interp.show_xyz(i)"
      ]
    },
    {
      "cell_type": "markdown",
      "metadata": {
        "colab_type": "text",
        "id": "KgZkM8M1IAxD"
      },
      "source": [
        "### 3.7. Interpret\n",
        "\n",
        "---\n",
        "\n"
      ]
    },
    {
      "cell_type": "code",
      "execution_count": null,
      "metadata": {
        "colab": {},
        "colab_type": "code",
        "id": "BXla1Fq0IBMS"
      },
      "outputs": [],
      "source": [
        "learn.interpret"
      ]
    },
    {
      "cell_type": "markdown",
      "metadata": {
        "colab_type": "text",
        "id": "_siWJq89IOdJ"
      },
      "source": [
        "### 3.8. Saving\n",
        "\n",
        "---\n",
        "\n"
      ]
    },
    {
      "cell_type": "code",
      "execution_count": null,
      "metadata": {
        "colab": {},
        "colab_type": "code",
        "id": "m3WfZ7bTIQOW"
      },
      "outputs": [],
      "source": [
        "learn.save('stage-2')"
      ]
    },
    {
      "cell_type": "code",
      "execution_count": null,
      "metadata": {
        "colab": {},
        "colab_type": "code",
        "id": "HvexEcm9ISE_"
      },
      "outputs": [],
      "source": [
        "data=None\n",
        "learn=None\n",
        "gc.collect()"
      ]
    },
    {
      "cell_type": "markdown",
      "metadata": {
        "colab_type": "text",
        "id": "Uh1ZPx64gR56"
      },
      "source": [
        "## 4. Second Step - With weights\n",
        "\n",
        "---\n",
        "\n"
      ]
    },
    {
      "cell_type": "markdown",
      "metadata": {
        "colab_type": "text",
        "id": "aT8l81QTjBrE"
      },
      "source": [
        "### 4.1. Second step Datasets\n",
        "\n",
        "---\n",
        "\n"
      ]
    },
    {
      "cell_type": "code",
      "execution_count": null,
      "metadata": {
        "colab": {},
        "colab_type": "code",
        "id": "FZP0o8F9i5-o"
      },
      "outputs": [],
      "source": [
        "size = src_size\n",
        "\n",
        "free = gpu_mem_get_free_no_cache()\n",
        "# the max size of bs depends on the available GPU RAM\n",
        "if free > 8200: bs=8\n",
        "else:           bs=4\n",
        "print(f\"using bs={bs}, have {free}MB of GPU RAM free\")"
      ]
    },
    {
      "cell_type": "code",
      "execution_count": null,
      "metadata": {
        "colab": {},
        "colab_type": "code",
        "id": "FgHlUXXIjMKU"
      },
      "outputs": [],
      "source": [
        "src = (SegmentationItemList.from_folder(path_img)\n",
        "       .split_by_fname_file('../valid.txt')\n",
        "       .label_from_func(get_y_fn, classes=codes))"
      ]
    },
    {
      "cell_type": "code",
      "execution_count": null,
      "metadata": {
        "colab": {},
        "colab_type": "code",
        "id": "0WjndpsWjN85"
      },
      "outputs": [],
      "source": [
        "data = (src.transform(get_transforms(), size=size, tfm_y=True)\n",
        "        .databunch(bs=bs)\n",
        "        .normalize(imagenet_stats))"
      ]
    },
    {
      "cell_type": "code",
      "execution_count": null,
      "metadata": {
        "colab": {},
        "colab_type": "code",
        "id": "BIaF-c96jRC4"
      },
      "outputs": [],
      "source": [
        "data.show_batch(2, figsize=(10,10))"
      ]
    },
    {
      "cell_type": "code",
      "execution_count": null,
      "metadata": {
        "colab": {},
        "colab_type": "code",
        "id": "amJs-yS0jTj2"
      },
      "outputs": [],
      "source": [
        "data.show_batch(2, figsize=(10,7), ds_type=DatasetType.Valid)"
      ]
    },
    {
      "cell_type": "markdown",
      "metadata": {
        "colab_type": "text",
        "id": "33FD1Sc2j-k0"
      },
      "source": [
        "### 4.2. Second step Model\n",
        "\n",
        "---\n",
        "\n"
      ]
    },
    {
      "cell_type": "code",
      "execution_count": null,
      "metadata": {
        "colab": {},
        "colab_type": "code",
        "id": "51MWvFIcj8PK"
      },
      "outputs": [],
      "source": [
        "name2id = {v:k for k,v in enumerate(codes)}\n",
        "void_code = name2id['manholeCover']\n",
        "\n",
        "def acc_rtk(input, target):\n",
        "    target = target.squeeze(1)\n",
        "    mask = target != void_code\n",
        "    return (input.argmax(dim=1)[mask]==target[mask]).float().mean()"
      ]
    },
    {
      "cell_type": "code",
      "execution_count": null,
      "metadata": {
        "colab": {},
        "colab_type": "code",
        "id": "U-TFrct9kEI7"
      },
      "outputs": [],
      "source": [
        "metrics=acc_rtk\n",
        "wd=1e-2"
      ]
    },
    {
      "cell_type": "code",
      "execution_count": null,
      "metadata": {
        "colab": {},
        "colab_type": "code",
        "id": "XhlXrkb3kGqL"
      },
      "outputs": [],
      "source": [
        "balanced_loss = CrossEntropyFlat(axis=1, weight=torch.tensor([1.0,5.0,6.0,7.0,75.0,1000.0,3100.0,3300.0,0.0,270.0,2200.0,1000.0,180.0]).cuda())"
      ]
    },
    {
      "cell_type": "code",
      "execution_count": null,
      "metadata": {
        "colab": {},
        "colab_type": "code",
        "id": "r53gfgy6kKsP"
      },
      "outputs": [],
      "source": [
        "learn = unet_learner(data, models.resnet34, metrics=metrics, loss_func=balanced_loss, wd=wd)"
      ]
    },
    {
      "cell_type": "code",
      "execution_count": null,
      "metadata": {
        "colab": {},
        "colab_type": "code",
        "id": "QZJ69o4ZkRW3"
      },
      "outputs": [],
      "source": [
        "learn.load('stage-2')"
      ]
    },
    {
      "cell_type": "code",
      "execution_count": null,
      "metadata": {
        "colab": {},
        "colab_type": "code",
        "id": "LdbVHXsWkVLJ"
      },
      "outputs": [],
      "source": [
        "!/opt/bin/nvidia-smi"
      ]
    },
    {
      "cell_type": "code",
      "execution_count": null,
      "metadata": {
        "colab": {},
        "colab_type": "code",
        "id": "BrjsLWBnkXM4"
      },
      "outputs": [],
      "source": [
        "#CUDA_LAUNCH_BLOCKING=1\n",
        "lr_find(learn)\n",
        "learn.recorder.plot()"
      ]
    },
    {
      "cell_type": "code",
      "execution_count": null,
      "metadata": {
        "colab": {},
        "colab_type": "code",
        "id": "vF7XVkIhkZIf"
      },
      "outputs": [],
      "source": [
        "lr=1e-4"
      ]
    },
    {
      "cell_type": "code",
      "execution_count": null,
      "metadata": {
        "colab": {},
        "colab_type": "code",
        "id": "MmG820FAkazZ"
      },
      "outputs": [],
      "source": [
        "learn.fit_one_cycle(10, slice(lr), pct_start=0.9)"
      ]
    },
    {
      "cell_type": "code",
      "execution_count": null,
      "metadata": {
        "colab": {},
        "colab_type": "code",
        "id": "IV2AM1tVkdNy"
      },
      "outputs": [],
      "source": [
        "learn.save('stage-1-weights')"
      ]
    },
    {
      "cell_type": "code",
      "execution_count": null,
      "metadata": {
        "colab": {},
        "colab_type": "code",
        "id": "cnrMAAJpkfNM"
      },
      "outputs": [],
      "source": [
        "learn.load('stage-1-weights');"
      ]
    },
    {
      "cell_type": "code",
      "execution_count": null,
      "metadata": {
        "colab": {},
        "colab_type": "code",
        "id": "JjrNgXZXkg9_"
      },
      "outputs": [],
      "source": [
        "learn.show_results(rows=5, figsize=(15,15))"
      ]
    },
    {
      "cell_type": "markdown",
      "metadata": {
        "colab_type": "text",
        "id": "4TAIZ9s4msq5"
      },
      "source": [
        "### 4.3. Interpret\n",
        "\n",
        "---\n",
        "\n"
      ]
    },
    {
      "cell_type": "code",
      "execution_count": null,
      "metadata": {
        "colab": {},
        "colab_type": "code",
        "id": "W74hI7tWmncC"
      },
      "outputs": [],
      "source": [
        "interp = SegmentationInterpretation.from_learner(learn)"
      ]
    },
    {
      "cell_type": "code",
      "execution_count": null,
      "metadata": {
        "colab": {},
        "colab_type": "code",
        "id": "yel6fEhlmxwA"
      },
      "outputs": [],
      "source": [
        "top_losses, top_idxs = interp.top_losses((288,352))"
      ]
    },
    {
      "cell_type": "code",
      "execution_count": null,
      "metadata": {
        "colab": {},
        "colab_type": "code",
        "id": "6yfQcvPvmzd6"
      },
      "outputs": [],
      "source": [
        "# plot loss distribution\n",
        "plt.hist(to_np(top_losses), bins=20)"
      ]
    },
    {
      "cell_type": "code",
      "execution_count": null,
      "metadata": {
        "colab": {},
        "colab_type": "code",
        "id": "dVEVTr0Vm2cj"
      },
      "outputs": [],
      "source": [
        "# top loss idxs of images\n",
        "top_idxs[:5]"
      ]
    },
    {
      "cell_type": "markdown",
      "metadata": {
        "colab_type": "text",
        "id": "D8N5E7BxnK7n"
      },
      "source": [
        "### 4.4. Confusion Matrix\n",
        "\n",
        "---\n",
        "\n"
      ]
    },
    {
      "cell_type": "code",
      "execution_count": null,
      "metadata": {
        "colab": {},
        "colab_type": "code",
        "id": "WzpLXsjAnCzg"
      },
      "outputs": [],
      "source": [
        "mean_cm, single_img_cm = interp._generate_confusion()"
      ]
    },
    {
      "cell_type": "code",
      "execution_count": null,
      "metadata": {
        "colab": {},
        "colab_type": "code",
        "id": "qlGEqxtKnPcH"
      },
      "outputs": [],
      "source": [
        "mean_cm.shape, single_img_cm.shape"
      ]
    },
    {
      "cell_type": "code",
      "execution_count": null,
      "metadata": {
        "colab": {},
        "colab_type": "code",
        "id": "ypwBccNlnRxJ"
      },
      "outputs": [],
      "source": [
        "# global class performance\n",
        "df = interp._plot_intersect_cm(mean_cm, \"Mean of Ratio of Intersection given True Label\")"
      ]
    },
    {
      "cell_type": "code",
      "execution_count": null,
      "metadata": {
        "colab": {},
        "colab_type": "code",
        "id": "_4CNorVgnU2D"
      },
      "outputs": [],
      "source": [
        "# single image class performance\n",
        "i = 10\n",
        "df = interp._plot_intersect_cm(single_img_cm[i], f\"Ratio of Intersection given True Label, Image:{i}\")"
      ]
    },
    {
      "cell_type": "code",
      "execution_count": null,
      "metadata": {
        "colab": {},
        "colab_type": "code",
        "id": "V2h5ich-nXmo"
      },
      "outputs": [],
      "source": [
        "# show xyz\n",
        "interp.show_xyz(i)"
      ]
    },
    {
      "cell_type": "markdown",
      "metadata": {
        "colab_type": "text",
        "id": "XI-bgt6voXi9"
      },
      "source": [
        "### 4.5. Second model continuation\n",
        "\n",
        "---\n",
        "\n"
      ]
    },
    {
      "cell_type": "code",
      "execution_count": null,
      "metadata": {
        "colab": {},
        "colab_type": "code",
        "id": "6BuzgDOYoS60"
      },
      "outputs": [],
      "source": [
        "learn.unfreeze()"
      ]
    },
    {
      "cell_type": "code",
      "execution_count": null,
      "metadata": {
        "colab": {},
        "colab_type": "code",
        "id": "Zili8A1rojNi"
      },
      "outputs": [],
      "source": [
        "lrs = slice(lr/400,lr/4)"
      ]
    },
    {
      "cell_type": "code",
      "execution_count": null,
      "metadata": {
        "colab": {},
        "colab_type": "code",
        "id": "6C5gFMv7olCX"
      },
      "outputs": [],
      "source": [
        "learn.fit_one_cycle(100, lrs, pct_start=0.8)"
      ]
    },
    {
      "cell_type": "code",
      "execution_count": null,
      "metadata": {
        "colab": {},
        "colab_type": "code",
        "id": "DwdGGDd3ooXx"
      },
      "outputs": [],
      "source": [
        "learn.save('stage-2-weights')"
      ]
    },
    {
      "cell_type": "code",
      "execution_count": null,
      "metadata": {
        "colab": {},
        "colab_type": "code",
        "id": "Oa5iJP78osiY"
      },
      "outputs": [],
      "source": [
        "learn.load('stage-2-weights');"
      ]
    },
    {
      "cell_type": "code",
      "execution_count": null,
      "metadata": {
        "colab": {},
        "colab_type": "code",
        "id": "N4yDmcE7ouv6"
      },
      "outputs": [],
      "source": [
        "learn.show_results(rows=25, figsize=(20,20))"
      ]
    },
    {
      "cell_type": "markdown",
      "metadata": {
        "colab_type": "text",
        "id": "wAZbjvb40iMJ"
      },
      "source": [
        "### 4.6. Confusion Matrix\n",
        "\n",
        "---\n",
        "\n"
      ]
    },
    {
      "cell_type": "code",
      "execution_count": null,
      "metadata": {
        "colab": {},
        "colab_type": "code",
        "id": "V1zqX1rEicia"
      },
      "outputs": [],
      "source": [
        "interp = SegmentationInterpretation.from_learner(learn)"
      ]
    },
    {
      "cell_type": "code",
      "execution_count": null,
      "metadata": {
        "colab": {},
        "colab_type": "code",
        "id": "s4K_t8a30QW4"
      },
      "outputs": [],
      "source": [
        "mean_cm, single_img_cm = interp._generate_confusion()"
      ]
    },
    {
      "cell_type": "code",
      "execution_count": null,
      "metadata": {
        "colab": {},
        "colab_type": "code",
        "id": "P2jgTPz60mMm"
      },
      "outputs": [],
      "source": [
        "mean_cm.shape, single_img_cm.shape"
      ]
    },
    {
      "cell_type": "code",
      "execution_count": null,
      "metadata": {
        "colab": {},
        "colab_type": "code",
        "id": "k149KJTd0oCk"
      },
      "outputs": [],
      "source": [
        "# global class performance\n",
        "df = interp._plot_intersect_cm(mean_cm, \"Mean of Ratio of Intersection given True Label\")"
      ]
    },
    {
      "cell_type": "code",
      "execution_count": null,
      "metadata": {
        "colab": {},
        "colab_type": "code",
        "id": "ccTzua6t0q3z"
      },
      "outputs": [],
      "source": [
        "# single image class performance\n",
        "i = 130\n",
        "df = interp._plot_intersect_cm(single_img_cm[i], f\"Ratio of Intersection given True Label, Image:{i}\")"
      ]
    },
    {
      "cell_type": "code",
      "execution_count": null,
      "metadata": {
        "colab": {},
        "colab_type": "code",
        "id": "StyO909Y0tbq"
      },
      "outputs": [],
      "source": [
        "# show xyz\n",
        "interp.show_xyz(i)"
      ]
    },
    {
      "cell_type": "markdown",
      "metadata": {
        "colab_type": "text",
        "id": "g5RVRyXL0_Uh"
      },
      "source": [
        "### 4.7. Interpret\n",
        "\n",
        "---\n",
        "\n"
      ]
    },
    {
      "cell_type": "code",
      "execution_count": null,
      "metadata": {
        "colab": {},
        "colab_type": "code",
        "id": "DHSOVNYk0_yI"
      },
      "outputs": [],
      "source": [
        "learn.interpret"
      ]
    },
    {
      "cell_type": "markdown",
      "metadata": {
        "colab_type": "text",
        "id": "eZ7SZZBN1KrS"
      },
      "source": [
        "### 4.8. Saving\n",
        "\n",
        "---\n",
        "\n"
      ]
    },
    {
      "cell_type": "code",
      "execution_count": null,
      "metadata": {
        "colab": {},
        "colab_type": "code",
        "id": "L-jfTKtS1GwG"
      },
      "outputs": [],
      "source": [
        "learn.save('stage-2-weights')"
      ]
    },
    {
      "cell_type": "markdown",
      "metadata": {
        "colab_type": "text",
        "id": "S0FHwE1p1RmR"
      },
      "source": [
        "## 5. Using a saved model to Predict\n",
        "\n",
        "---\n",
        "\n"
      ]
    },
    {
      "cell_type": "code",
      "execution_count": null,
      "metadata": {
        "colab": {},
        "colab_type": "code",
        "id": "zs0LgfQr1NQ1"
      },
      "outputs": [],
      "source": [
        "size = src_size\n",
        "\n",
        "free = gpu_mem_get_free_no_cache()\n",
        "# the max size of bs depends on the available GPU RAM\n",
        "if free > 8200: bs=8\n",
        "else:           bs=4\n",
        "print(f\"using bs={bs}, have {free}MB of GPU RAM free\")"
      ]
    },
    {
      "cell_type": "code",
      "execution_count": null,
      "metadata": {
        "colab": {},
        "colab_type": "code",
        "id": "kcPVDg1o1ZyY"
      },
      "outputs": [],
      "source": [
        "src = (SegmentationItemList.from_folder(path_img)\n",
        "       .split_by_fname_file('../valid.txt')\n",
        "       .label_from_func(get_y_fn, classes=codes))"
      ]
    },
    {
      "cell_type": "code",
      "execution_count": null,
      "metadata": {
        "colab": {},
        "colab_type": "code",
        "id": "Xhppsx_R1bvI"
      },
      "outputs": [],
      "source": [
        "data = (src.transform(get_transforms(), size=size, tfm_y=True)\n",
        "        .databunch(bs=bs)\n",
        "        .normalize(imagenet_stats))"
      ]
    },
    {
      "cell_type": "code",
      "execution_count": null,
      "metadata": {
        "colab": {},
        "colab_type": "code",
        "id": "ViZg6ouZOdcm"
      },
      "outputs": [],
      "source": [
        "learn = unet_learner(data, models.resnet34)"
      ]
    },
    {
      "cell_type": "code",
      "execution_count": null,
      "metadata": {
        "colab": {},
        "colab_type": "code",
        "id": "wkRfgXLd1sMe"
      },
      "outputs": [],
      "source": [
        "learn.load('stage-2-weights');"
      ]
    },
    {
      "cell_type": "code",
      "execution_count": null,
      "metadata": {
        "colab": {},
        "colab_type": "code",
        "id": "ABRotkkd1vSU"
      },
      "outputs": [],
      "source": [
        "interp = SegmentationInterpretation.from_learner(learn)"
      ]
    },
    {
      "cell_type": "code",
      "execution_count": null,
      "metadata": {
        "colab": {},
        "colab_type": "code",
        "id": "gE8c7YSX1xOH"
      },
      "outputs": [],
      "source": [
        "mean_cm, single_img_cm = interp._generate_confusion()"
      ]
    },
    {
      "cell_type": "code",
      "execution_count": null,
      "metadata": {
        "colab": {},
        "colab_type": "code",
        "id": "OWUm7CsA1yxT"
      },
      "outputs": [],
      "source": [
        "mean_cm.shape, single_img_cm.shape"
      ]
    },
    {
      "cell_type": "code",
      "execution_count": null,
      "metadata": {
        "colab": {},
        "colab_type": "code",
        "id": "6ZejuHxi106m"
      },
      "outputs": [],
      "source": [
        "# global class performance\n",
        "df = interp._plot_intersect_cm(mean_cm, \"Mean of Ratio of Intersection given True Label\")"
      ]
    },
    {
      "cell_type": "code",
      "execution_count": null,
      "metadata": {
        "colab": {},
        "colab_type": "code",
        "id": "vGajg-Q_13xU"
      },
      "outputs": [],
      "source": [
        "# single image class performance\n",
        "i = 130\n",
        "df = interp._plot_intersect_cm(single_img_cm[i], f\"Ratio of Intersection given True Label, Image:{i}\")"
      ]
    },
    {
      "cell_type": "code",
      "execution_count": null,
      "metadata": {
        "colab": {},
        "colab_type": "code",
        "id": "KmLQEz2w16H6"
      },
      "outputs": [],
      "source": [
        "# show xyz\n",
        "interp.show_xyz(i)"
      ]
    },
    {
      "cell_type": "code",
      "execution_count": null,
      "metadata": {
        "colab": {},
        "colab_type": "code",
        "id": "J66cvtAP181a"
      },
      "outputs": [],
      "source": [
        "learn.show_results()"
      ]
    },
    {
      "cell_type": "markdown",
      "metadata": {
        "colab_type": "text",
        "id": "IO3-KXDsp4VB"
      },
      "source": [
        "## 6. Saving the Results\n",
        "\n",
        "---\n",
        "\n"
      ]
    },
    {
      "cell_type": "code",
      "execution_count": null,
      "metadata": {
        "colab": {},
        "colab_type": "code",
        "id": "BMj7IsIep6oZ"
      },
      "outputs": [],
      "source": [
        "img_f = fnames[655]\n",
        "img = open_image(img_f)\n",
        "img.show(figsize=(5,5))"
      ]
    },
    {
      "cell_type": "code",
      "execution_count": null,
      "metadata": {
        "colab": {},
        "colab_type": "code",
        "id": "m5j5g8nuqCd5"
      },
      "outputs": [],
      "source": [
        "prediction = learn.predict(img)"
      ]
    },
    {
      "cell_type": "code",
      "execution_count": null,
      "metadata": {
        "colab": {},
        "colab_type": "code",
        "id": "r8F26wXwqEIL"
      },
      "outputs": [],
      "source": [
        "prediction[0].show(figsize=(5,5))"
      ]
    },
    {
      "cell_type": "code",
      "execution_count": null,
      "metadata": {
        "colab": {},
        "colab_type": "code",
        "id": "S47GvGCLqGTe"
      },
      "outputs": [],
      "source": [
        "results_save = 'results'\n",
        "path_rst = path/results_save\n",
        "path_rst.mkdir(exist_ok=True)"
      ]
    },
    {
      "cell_type": "code",
      "execution_count": null,
      "metadata": {
        "colab": {},
        "colab_type": "code",
        "id": "J8KKlUcSqLZ1"
      },
      "outputs": [],
      "source": [
        "def save_preds(names):\n",
        "    i=0\n",
        "    #names = dl.dataset.items\n",
        "    \n",
        "    for b in names:\n",
        "        img_s = fnames[i]\n",
        "        img_toSave = open_image(img_s)\n",
        "        img_split = f'{img_s}'\n",
        "        img_split = img_split[12:]\n",
        "        #print(path_rst/img_split)\n",
        "        predictionSave = learn.predict(img_toSave)\n",
        "        predictionSave[0].save(path_rst/img_split) #Save Image\n",
        "        i += 1\n",
        "        print(i)"
      ]
    },
    {
      "cell_type": "code",
      "execution_count": null,
      "metadata": {
        "colab": {},
        "colab_type": "code",
        "id": "sGOALMQJqNT0"
      },
      "outputs": [],
      "source": [
        "#print(fnames)\n",
        "save_preds(fnames)"
      ]
    },
    {
      "cell_type": "markdown",
      "metadata": {
        "colab_type": "text",
        "id": "Ke8FATsZW1n_"
      },
      "source": [
        "## 7. Coloring the Results\n",
        "\n",
        "---\n",
        "\n",
        "\n"
      ]
    },
    {
      "cell_type": "code",
      "execution_count": null,
      "metadata": {
        "colab": {},
        "colab_type": "code",
        "id": "8ODnS4N8W6yF"
      },
      "outputs": [],
      "source": [
        "import os\n",
        "import glob\n",
        "import base64\n",
        "import cv2 as cv\n",
        "cv.__version__"
      ]
    },
    {
      "cell_type": "code",
      "execution_count": null,
      "metadata": {
        "colab": {},
        "colab_type": "code",
        "id": "H5ZL2LkXX9Ij"
      },
      "outputs": [],
      "source": [
        "colored_results = 'results_color'\n",
        "path_crst = path/colored_results\n",
        "path_crst.mkdir(exist_ok=True)"
      ]
    },
    {
      "cell_type": "code",
      "execution_count": null,
      "metadata": {
        "colab": {},
        "colab_type": "code",
        "id": "CaMwRbGJzFyG"
      },
      "outputs": [],
      "source": [
        "%load_ext cython"
      ]
    },
    {
      "cell_type": "code",
      "execution_count": null,
      "metadata": {
        "colab": {},
        "colab_type": "code",
        "id": "5tdvtka_zJg7"
      },
      "outputs": [],
      "source": [
        "%%cython -a\n",
        "import cython\n",
        "cimport numpy\n",
        "import cv2 as cv\n",
        "import numpy as np\n",
        "\n",
        "@cython.boundscheck(False)\n",
        "@cython.wraparound(False)\n",
        "#def colorfull_fast(numpy.ndarray[numpy.uint8_t, ndim=3, mode=\"c\"] frame):\n",
        "cpdef numpy.ndarray[numpy.uint8_t, ndim=3, mode=\"c\"] colorfull_fast(numpy.ndarray[numpy.uint8_t, ndim=3, mode=\"c\"] frame):\n",
        "  # set the variable extension types\n",
        "  cdef int x, y, width, height, b, g, r\n",
        "\n",
        "  #frame = cv.imdecode(np.frombuffer(byteframe, np.uint8), -1)\n",
        "\n",
        "  # grab the image dimensions\n",
        "  width = 288\n",
        "  height = 352\n",
        "    \n",
        "  # loop over the image, pixel by pixel\n",
        "  for x in range(width):\n",
        "    for y in range(height):\n",
        "      b, g, r = frame[x, y]\n",
        "      if (b, g, r) == (0,0,0): #background\n",
        "        frame[x, y] = (0,0,0)\n",
        "      elif (b, g, r) == (1,1,1): #roadAsphalt\n",
        "        frame[x, y] = (85,85,255)\n",
        "      elif (b, g, r) == (2,2,2): #roadPaved\n",
        "        frame[x, y] = (85,170,127)\n",
        "      elif (b, g, r) == (3,3,3): #roadUnpaved\n",
        "        frame[x, y] = (255,170,127) \n",
        "      elif (b, g, r) == (4,4,4): #roadMarking\n",
        "        frame[x, y] = (255,255,255) \n",
        "      elif (b, g, r) == (5,5,5): #speedBump\n",
        "        frame[x, y] = (255,85,255)\n",
        "      elif (b, g, r) == (6,6,6): #catsEye\n",
        "        frame[x, y] = (255,255,127)          \n",
        "      elif (b, g, r) == (7,7,7): #stormDrain\n",
        "        frame[x, y] = (170,0,127) \n",
        "      elif (b, g, r) == (8,8,8): #manholeCover\n",
        "        frame[x, y] = (0,255,255) \n",
        "      elif (b, g, r) == (9,9,9): #patchs\n",
        "        frame[x, y] = (0,0,127) \n",
        "      elif (b, g, r) == (10,10,10): #waterPuddle\n",
        "        frame[x, y] = (170,0,0)\n",
        "      elif (b, g, r) == (11,11,11): #pothole\n",
        "        frame[x, y] = (255,0,0)\n",
        "      elif (b, g, r) == (12,12,12): #cracks\n",
        "        frame[x, y] = (255,85,0)\n",
        " \n",
        "  frame = cv.cvtColor(frame,cv.COLOR_BGR2RGB)\n",
        "  \n",
        "  # return the colored image\n",
        "  return frame"
      ]
    },
    {
      "cell_type": "code",
      "execution_count": null,
      "metadata": {
        "colab": {},
        "colab_type": "code",
        "id": "kAidoH1KzMsd"
      },
      "outputs": [],
      "source": [
        "import timeit\n",
        "# Count variables\n",
        "fqtd = 0\n",
        "\n",
        "filenames = [img for img in glob.glob(str(path_rst/\"*.png\"))]\n",
        "\n",
        "filenames.sort() # ADD THIS LINE\n",
        "\n",
        "for img in filenames:\n",
        "  frame = cv.imread(img)\n",
        "\n",
        "  #%timeit colorfull_fast(frame)\n",
        "  \n",
        "  frame = colorfull_fast(frame)\n",
        "  name = \"%09d.png\"%fqtd\n",
        "  cv.imwrite(os.path.join(path_crst, name), frame)\n",
        "\n",
        "  fqtd += 1\n",
        "  print(fqtd)\n",
        "\n",
        "print(\"Done!\")"
      ]
    },
    {
      "cell_type": "code",
      "execution_count": null,
      "metadata": {},
      "outputs": [],
      "source": [
        "def colorfull(image):\n",
        "  # grab the image dimensions\n",
        "  #height = image.shape[0]\n",
        "  #width = image.shape[1]\n",
        "  width = 288\n",
        "  height = 352\n",
        " \n",
        "  # loop over the image, pixel by pixel\n",
        "  for x in range(width):\n",
        "    for y in range(height):\n",
        "        b, g, r = frame[x, y]\n",
        "        if (b, g, r) == (0,0,0): #background\n",
        "            frame[x, y] = (0,0,0)\n",
        "        elif (b, g, r) == (1,1,1): #roadAsphalt\n",
        "            frame[x, y] = (85,85,255)\n",
        "        elif (b, g, r) == (2,2,2): #roadPaved\n",
        "            frame[x, y] = (85,170,127)\n",
        "        elif (b, g, r) == (3,3,3): #roadUnpaved\n",
        "            frame[x, y] = (255,170,127) \n",
        "        elif (b, g, r) == (4,4,4): #roadMarking\n",
        "            frame[x, y] = (255,255,255) \n",
        "        elif (b, g, r) == (5,5,5): #speedBump\n",
        "            frame[x, y] = (255,85,255)\n",
        "        elif (b, g, r) == (6,6,6): #catsEye\n",
        "            frame[x, y] = (255,255,127)          \n",
        "        elif (b, g, r) == (7,7,7): #stormDrain\n",
        "            frame[x, y] = (170,0,127) \n",
        "        elif (b, g, r) == (8,8,8): #manholeCover\n",
        "            frame[x, y] = (0,255,255) \n",
        "        elif (b, g, r) == (9,9,9): #patchs\n",
        "            frame[x, y] = (0,0,127) \n",
        "        elif (b, g, r) == (10,10,10): #waterPuddle\n",
        "            frame[x, y] = (170,0,0)\n",
        "        elif (b, g, r) == (11,11,11): #pothole\n",
        "            frame[x, y] = (255,0,0)\n",
        "        elif (b, g, r) == (12,12,12): #cracks\n",
        "            frame[x, y] = (255,85,0)\n",
        " \n",
        "  # return the colored image\n",
        "  return image"
      ]
    },
    {
      "cell_type": "code",
      "execution_count": null,
      "metadata": {},
      "outputs": [],
      "source": [
        "fqtd = 0\n",
        "\n",
        "filenames = [img for img in glob.glob(str(path_rst/\"*.png\"))]\n",
        "\n",
        "filenames.sort()\n",
        "\n",
        "for img in filenames:\n",
        "  frame = cv.imread(img)\n",
        "  frame =  colorfull(frame)\n",
        "  frame = cv.cvtColor(frame,cv.COLOR_BGR2RGB)\n",
        "  name = \"%09d.png\"%fqtd\n",
        "  cv.imwrite(os.path.join(path_crst, name), frame)\n",
        "\n",
        "  fqtd += 1\n",
        "  print(fqtd)\n",
        "\n",
        "print(\"Done!\")"
      ]
    }
  ],
  "metadata": {
    "accelerator": "GPU",
    "colab": {
      "collapsed_sections": [
        "mk2r-gCRCVb_",
        "nBWj9_LSC2G5",
        "UbxyIcZkDqBJ",
        "K7W20An-GnNm",
        "VE4zF162G-4z",
        "tRZoEiB8HJhI",
        "3oW77qUxHhkp",
        "3ojFnvRBHx8v",
        "KgZkM8M1IAxD",
        "_siWJq89IOdJ",
        "Uh1ZPx64gR56",
        "aT8l81QTjBrE",
        "33FD1Sc2j-k0",
        "4TAIZ9s4msq5",
        "D8N5E7BxnK7n",
        "XI-bgt6voXi9",
        "wAZbjvb40iMJ",
        "g5RVRyXL0_Uh",
        "eZ7SZZBN1KrS",
        "S0FHwE1p1RmR",
        "IO3-KXDsp4VB",
        "Ke8FATsZW1n_"
      ],
      "name": "Copy of RoadSurfaceSegmentation.ipynb",
      "provenance": []
    },
    "kernelspec": {
      "display_name": "Python 3",
      "name": "python3"
    },
    "language_info": {
      "codemirror_mode": {
        "name": "ipython",
        "version": 3
      },
      "file_extension": ".py",
      "mimetype": "text/x-python",
      "name": "python",
      "nbconvert_exporter": "python",
      "pygments_lexer": "ipython3",
      "version": "3.9.18"
    }
  },
  "nbformat": 4,
  "nbformat_minor": 0
}
